{
 "cells": [
  {
   "cell_type": "markdown",
   "id": "74b86bf2-9069-4bd8-a5ff-601c2ccac3c3",
   "metadata": {},
   "source": [
    "# Import necessary libiraries"
   ]
  },
  {
   "cell_type": "code",
   "execution_count": 18,
   "id": "871aac7b-eeec-4b62-a18a-c66625041bd2",
   "metadata": {},
   "outputs": [],
   "source": [
    "import pandas as pd\n",
    "import numpy as np\n",
    "import matplotlib.pyplot as plt\n",
    "import seaborn as sns\n",
    "import statsmodels.api as sms\n",
    "from sklearn.model_selection import train_test_split\n",
    "from sklearn.linear_model import LinearRegression\n",
    "from sklearn.preprocessing import StandardScaler\n",
    "from sklearn.metrics import mean_squared_error,mean_absolute_error,r2_score\n",
    "sns.set()"
   ]
  },
  {
   "cell_type": "markdown",
   "id": "1589f256-bfda-43b1-9983-53b2e5419fbe",
   "metadata": {},
   "source": [
    "# Load data"
   ]
  },
  {
   "cell_type": "code",
   "execution_count": 19,
   "id": "9542fab3-6cf2-49d6-bfe0-949979a96e73",
   "metadata": {
    "scrolled": true
   },
   "outputs": [
    {
     "data": {
      "text/html": [
       "<div>\n",
       "<style scoped>\n",
       "    .dataframe tbody tr th:only-of-type {\n",
       "        vertical-align: middle;\n",
       "    }\n",
       "\n",
       "    .dataframe tbody tr th {\n",
       "        vertical-align: top;\n",
       "    }\n",
       "\n",
       "    .dataframe thead th {\n",
       "        text-align: right;\n",
       "    }\n",
       "</style>\n",
       "<table border=\"1\" class=\"dataframe\">\n",
       "  <thead>\n",
       "    <tr style=\"text-align: right;\">\n",
       "      <th></th>\n",
       "      <th>Email</th>\n",
       "      <th>Address</th>\n",
       "      <th>Avatar</th>\n",
       "      <th>Avg. Session Length</th>\n",
       "      <th>Time on App</th>\n",
       "      <th>Time on Website</th>\n",
       "      <th>Length of Membership</th>\n",
       "      <th>Yearly Amount Spent</th>\n",
       "    </tr>\n",
       "  </thead>\n",
       "  <tbody>\n",
       "    <tr>\n",
       "      <th>0</th>\n",
       "      <td>mstephenson@fernandez.com</td>\n",
       "      <td>835 Frank Tunnel\\nWrightmouth, MI 82180-9605</td>\n",
       "      <td>Violet</td>\n",
       "      <td>34.497268</td>\n",
       "      <td>12.655651</td>\n",
       "      <td>39.577668</td>\n",
       "      <td>4.082621</td>\n",
       "      <td>587.951054</td>\n",
       "    </tr>\n",
       "    <tr>\n",
       "      <th>1</th>\n",
       "      <td>hduke@hotmail.com</td>\n",
       "      <td>4547 Archer Common\\nDiazchester, CA 06566-8576</td>\n",
       "      <td>DarkGreen</td>\n",
       "      <td>31.926272</td>\n",
       "      <td>11.109461</td>\n",
       "      <td>37.268959</td>\n",
       "      <td>2.664034</td>\n",
       "      <td>392.204933</td>\n",
       "    </tr>\n",
       "    <tr>\n",
       "      <th>2</th>\n",
       "      <td>pallen@yahoo.com</td>\n",
       "      <td>24645 Valerie Unions Suite 582\\nCobbborough, D...</td>\n",
       "      <td>Bisque</td>\n",
       "      <td>33.000915</td>\n",
       "      <td>11.330278</td>\n",
       "      <td>37.110597</td>\n",
       "      <td>4.104543</td>\n",
       "      <td>487.547505</td>\n",
       "    </tr>\n",
       "    <tr>\n",
       "      <th>3</th>\n",
       "      <td>riverarebecca@gmail.com</td>\n",
       "      <td>1414 David Throughway\\nPort Jason, OH 22070-1220</td>\n",
       "      <td>SaddleBrown</td>\n",
       "      <td>34.305557</td>\n",
       "      <td>13.717514</td>\n",
       "      <td>36.721283</td>\n",
       "      <td>3.120179</td>\n",
       "      <td>581.852344</td>\n",
       "    </tr>\n",
       "    <tr>\n",
       "      <th>4</th>\n",
       "      <td>mstephens@davidson-herman.com</td>\n",
       "      <td>14023 Rodriguez Passage\\nPort Jacobville, PR 3...</td>\n",
       "      <td>MediumAquaMarine</td>\n",
       "      <td>33.330673</td>\n",
       "      <td>12.795189</td>\n",
       "      <td>37.536653</td>\n",
       "      <td>4.446308</td>\n",
       "      <td>599.406092</td>\n",
       "    </tr>\n",
       "  </tbody>\n",
       "</table>\n",
       "</div>"
      ],
      "text/plain": [
       "                           Email  \\\n",
       "0      mstephenson@fernandez.com   \n",
       "1              hduke@hotmail.com   \n",
       "2               pallen@yahoo.com   \n",
       "3        riverarebecca@gmail.com   \n",
       "4  mstephens@davidson-herman.com   \n",
       "\n",
       "                                             Address            Avatar  \\\n",
       "0       835 Frank Tunnel\\nWrightmouth, MI 82180-9605            Violet   \n",
       "1     4547 Archer Common\\nDiazchester, CA 06566-8576         DarkGreen   \n",
       "2  24645 Valerie Unions Suite 582\\nCobbborough, D...            Bisque   \n",
       "3   1414 David Throughway\\nPort Jason, OH 22070-1220       SaddleBrown   \n",
       "4  14023 Rodriguez Passage\\nPort Jacobville, PR 3...  MediumAquaMarine   \n",
       "\n",
       "   Avg. Session Length  Time on App  Time on Website  Length of Membership  \\\n",
       "0            34.497268    12.655651        39.577668              4.082621   \n",
       "1            31.926272    11.109461        37.268959              2.664034   \n",
       "2            33.000915    11.330278        37.110597              4.104543   \n",
       "3            34.305557    13.717514        36.721283              3.120179   \n",
       "4            33.330673    12.795189        37.536653              4.446308   \n",
       "\n",
       "   Yearly Amount Spent  \n",
       "0           587.951054  \n",
       "1           392.204933  \n",
       "2           487.547505  \n",
       "3           581.852344  \n",
       "4           599.406092  "
      ]
     },
     "execution_count": 19,
     "metadata": {},
     "output_type": "execute_result"
    }
   ],
   "source": [
    "raw_data = pd.read_csv(\"Ecommerce Customers\")\n",
    "raw_data.head()"
   ]
  },
  {
   "cell_type": "code",
   "execution_count": 20,
   "id": "4b58b99c-d1c6-4574-9eee-ceb461df16e6",
   "metadata": {},
   "outputs": [
    {
     "data": {
      "text/html": [
       "<div>\n",
       "<style scoped>\n",
       "    .dataframe tbody tr th:only-of-type {\n",
       "        vertical-align: middle;\n",
       "    }\n",
       "\n",
       "    .dataframe tbody tr th {\n",
       "        vertical-align: top;\n",
       "    }\n",
       "\n",
       "    .dataframe thead th {\n",
       "        text-align: right;\n",
       "    }\n",
       "</style>\n",
       "<table border=\"1\" class=\"dataframe\">\n",
       "  <thead>\n",
       "    <tr style=\"text-align: right;\">\n",
       "      <th></th>\n",
       "      <th>Avg. Session Length</th>\n",
       "      <th>Time on App</th>\n",
       "      <th>Time on Website</th>\n",
       "      <th>Length of Membership</th>\n",
       "      <th>Yearly Amount Spent</th>\n",
       "    </tr>\n",
       "  </thead>\n",
       "  <tbody>\n",
       "    <tr>\n",
       "      <th>0</th>\n",
       "      <td>34.497268</td>\n",
       "      <td>12.655651</td>\n",
       "      <td>39.577668</td>\n",
       "      <td>4.082621</td>\n",
       "      <td>587.951054</td>\n",
       "    </tr>\n",
       "    <tr>\n",
       "      <th>1</th>\n",
       "      <td>31.926272</td>\n",
       "      <td>11.109461</td>\n",
       "      <td>37.268959</td>\n",
       "      <td>2.664034</td>\n",
       "      <td>392.204933</td>\n",
       "    </tr>\n",
       "    <tr>\n",
       "      <th>2</th>\n",
       "      <td>33.000915</td>\n",
       "      <td>11.330278</td>\n",
       "      <td>37.110597</td>\n",
       "      <td>4.104543</td>\n",
       "      <td>487.547505</td>\n",
       "    </tr>\n",
       "    <tr>\n",
       "      <th>3</th>\n",
       "      <td>34.305557</td>\n",
       "      <td>13.717514</td>\n",
       "      <td>36.721283</td>\n",
       "      <td>3.120179</td>\n",
       "      <td>581.852344</td>\n",
       "    </tr>\n",
       "    <tr>\n",
       "      <th>4</th>\n",
       "      <td>33.330673</td>\n",
       "      <td>12.795189</td>\n",
       "      <td>37.536653</td>\n",
       "      <td>4.446308</td>\n",
       "      <td>599.406092</td>\n",
       "    </tr>\n",
       "  </tbody>\n",
       "</table>\n",
       "</div>"
      ],
      "text/plain": [
       "   Avg. Session Length  Time on App  Time on Website  Length of Membership  \\\n",
       "0            34.497268    12.655651        39.577668              4.082621   \n",
       "1            31.926272    11.109461        37.268959              2.664034   \n",
       "2            33.000915    11.330278        37.110597              4.104543   \n",
       "3            34.305557    13.717514        36.721283              3.120179   \n",
       "4            33.330673    12.795189        37.536653              4.446308   \n",
       "\n",
       "   Yearly Amount Spent  \n",
       "0           587.951054  \n",
       "1           392.204933  \n",
       "2           487.547505  \n",
       "3           581.852344  \n",
       "4           599.406092  "
      ]
     },
     "execution_count": 20,
     "metadata": {},
     "output_type": "execute_result"
    }
   ],
   "source": [
    "data = raw_data.copy()\n",
    "data.drop(columns=[\"Email\",\"Address\",\"Avatar\"],inplace=True)\n",
    "data.head()"
   ]
  },
  {
   "cell_type": "markdown",
   "id": "7bdf1b5b-3a64-4234-9202-11104f411271",
   "metadata": {},
   "source": [
    "# Description of data"
   ]
  },
  {
   "cell_type": "code",
   "execution_count": 21,
   "id": "e254b383-1d0a-4360-8e11-a4bbc62903f5",
   "metadata": {},
   "outputs": [
    {
     "name": "stdout",
     "output_type": "stream",
     "text": [
      "<class 'pandas.core.frame.DataFrame'>\n",
      "RangeIndex: 500 entries, 0 to 499\n",
      "Data columns (total 5 columns):\n",
      " #   Column                Non-Null Count  Dtype  \n",
      "---  ------                --------------  -----  \n",
      " 0   Avg. Session Length   500 non-null    float64\n",
      " 1   Time on App           500 non-null    float64\n",
      " 2   Time on Website       500 non-null    float64\n",
      " 3   Length of Membership  500 non-null    float64\n",
      " 4   Yearly Amount Spent   500 non-null    float64\n",
      "dtypes: float64(5)\n",
      "memory usage: 19.7 KB\n"
     ]
    }
   ],
   "source": [
    "data.info()"
   ]
  },
  {
   "cell_type": "code",
   "execution_count": 22,
   "id": "684b6a94-fc8d-4831-826f-5212a2697147",
   "metadata": {},
   "outputs": [
    {
     "data": {
      "text/html": [
       "<div>\n",
       "<style scoped>\n",
       "    .dataframe tbody tr th:only-of-type {\n",
       "        vertical-align: middle;\n",
       "    }\n",
       "\n",
       "    .dataframe tbody tr th {\n",
       "        vertical-align: top;\n",
       "    }\n",
       "\n",
       "    .dataframe thead th {\n",
       "        text-align: right;\n",
       "    }\n",
       "</style>\n",
       "<table border=\"1\" class=\"dataframe\">\n",
       "  <thead>\n",
       "    <tr style=\"text-align: right;\">\n",
       "      <th></th>\n",
       "      <th>Avg. Session Length</th>\n",
       "      <th>Time on App</th>\n",
       "      <th>Time on Website</th>\n",
       "      <th>Length of Membership</th>\n",
       "      <th>Yearly Amount Spent</th>\n",
       "    </tr>\n",
       "  </thead>\n",
       "  <tbody>\n",
       "    <tr>\n",
       "      <th>count</th>\n",
       "      <td>500.000000</td>\n",
       "      <td>500.000000</td>\n",
       "      <td>500.000000</td>\n",
       "      <td>500.000000</td>\n",
       "      <td>500.000000</td>\n",
       "    </tr>\n",
       "    <tr>\n",
       "      <th>mean</th>\n",
       "      <td>33.053194</td>\n",
       "      <td>12.052488</td>\n",
       "      <td>37.060445</td>\n",
       "      <td>3.533462</td>\n",
       "      <td>499.314038</td>\n",
       "    </tr>\n",
       "    <tr>\n",
       "      <th>std</th>\n",
       "      <td>0.992563</td>\n",
       "      <td>0.994216</td>\n",
       "      <td>1.010489</td>\n",
       "      <td>0.999278</td>\n",
       "      <td>79.314782</td>\n",
       "    </tr>\n",
       "    <tr>\n",
       "      <th>min</th>\n",
       "      <td>29.532429</td>\n",
       "      <td>8.508152</td>\n",
       "      <td>33.913847</td>\n",
       "      <td>0.269901</td>\n",
       "      <td>256.670582</td>\n",
       "    </tr>\n",
       "    <tr>\n",
       "      <th>25%</th>\n",
       "      <td>32.341822</td>\n",
       "      <td>11.388153</td>\n",
       "      <td>36.349257</td>\n",
       "      <td>2.930450</td>\n",
       "      <td>445.038277</td>\n",
       "    </tr>\n",
       "    <tr>\n",
       "      <th>50%</th>\n",
       "      <td>33.082008</td>\n",
       "      <td>11.983231</td>\n",
       "      <td>37.069367</td>\n",
       "      <td>3.533975</td>\n",
       "      <td>498.887875</td>\n",
       "    </tr>\n",
       "    <tr>\n",
       "      <th>75%</th>\n",
       "      <td>33.711985</td>\n",
       "      <td>12.753850</td>\n",
       "      <td>37.716432</td>\n",
       "      <td>4.126502</td>\n",
       "      <td>549.313828</td>\n",
       "    </tr>\n",
       "    <tr>\n",
       "      <th>max</th>\n",
       "      <td>36.139662</td>\n",
       "      <td>15.126994</td>\n",
       "      <td>40.005182</td>\n",
       "      <td>6.922689</td>\n",
       "      <td>765.518462</td>\n",
       "    </tr>\n",
       "  </tbody>\n",
       "</table>\n",
       "</div>"
      ],
      "text/plain": [
       "       Avg. Session Length  Time on App  Time on Website  \\\n",
       "count           500.000000   500.000000       500.000000   \n",
       "mean             33.053194    12.052488        37.060445   \n",
       "std               0.992563     0.994216         1.010489   \n",
       "min              29.532429     8.508152        33.913847   \n",
       "25%              32.341822    11.388153        36.349257   \n",
       "50%              33.082008    11.983231        37.069367   \n",
       "75%              33.711985    12.753850        37.716432   \n",
       "max              36.139662    15.126994        40.005182   \n",
       "\n",
       "       Length of Membership  Yearly Amount Spent  \n",
       "count            500.000000           500.000000  \n",
       "mean               3.533462           499.314038  \n",
       "std                0.999278            79.314782  \n",
       "min                0.269901           256.670582  \n",
       "25%                2.930450           445.038277  \n",
       "50%                3.533975           498.887875  \n",
       "75%                4.126502           549.313828  \n",
       "max                6.922689           765.518462  "
      ]
     },
     "execution_count": 22,
     "metadata": {},
     "output_type": "execute_result"
    }
   ],
   "source": [
    "data.describe()"
   ]
  },
  {
   "cell_type": "markdown",
   "id": "98dcdfe5-244b-45cf-a05a-cb36588dbbf0",
   "metadata": {},
   "source": [
    "# Data Cleaning & Preprocessing"
   ]
  },
  {
   "cell_type": "markdown",
   "id": "39be5092-ff9e-48ba-9141-7127561b29d6",
   "metadata": {},
   "source": [
    "### Explore missing values"
   ]
  },
  {
   "cell_type": "code",
   "execution_count": 23,
   "id": "3fa3ddd8-4a42-4317-8d3c-77f620abf763",
   "metadata": {},
   "outputs": [
    {
     "data": {
      "text/plain": [
       "Avg. Session Length     0\n",
       "Time on App             0\n",
       "Time on Website         0\n",
       "Length of Membership    0\n",
       "Yearly Amount Spent     0\n",
       "dtype: int64"
      ]
     },
     "execution_count": 23,
     "metadata": {},
     "output_type": "execute_result"
    }
   ],
   "source": [
    "data.isnull().sum()"
   ]
  },
  {
   "cell_type": "markdown",
   "id": "3c7249cb-4376-44ad-a25d-665f5a0434ef",
   "metadata": {},
   "source": [
    "### Explore duplicates"
   ]
  },
  {
   "cell_type": "code",
   "execution_count": 24,
   "id": "a8f98814-33d4-44f5-a6e3-ae8d564777b3",
   "metadata": {},
   "outputs": [
    {
     "data": {
      "text/plain": [
       "0"
      ]
     },
     "execution_count": 24,
     "metadata": {},
     "output_type": "execute_result"
    }
   ],
   "source": [
    "data.duplicated().sum()"
   ]
  },
  {
   "cell_type": "markdown",
   "id": "da590b8b-c9e2-4053-8d55-7bd6e272299e",
   "metadata": {},
   "source": [
    "### Explore outliers"
   ]
  },
  {
   "cell_type": "code",
   "execution_count": 25,
   "id": "26c42bc9-beb0-4f69-8d6b-375be8c54c0b",
   "metadata": {},
   "outputs": [],
   "source": [
    "def Z_score(col):\n",
    "    mean = col.mean()\n",
    "    std = col.std()\n",
    "    z_score = [((i-mean)/std).round(3) for i in col]\n",
    "    return z_score"
   ]
  },
  {
   "cell_type": "code",
   "execution_count": 26,
   "id": "155842a6-7cf9-4633-9141-f9f148801367",
   "metadata": {},
   "outputs": [
    {
     "data": {
      "text/html": [
       "<div>\n",
       "<style scoped>\n",
       "    .dataframe tbody tr th:only-of-type {\n",
       "        vertical-align: middle;\n",
       "    }\n",
       "\n",
       "    .dataframe tbody tr th {\n",
       "        vertical-align: top;\n",
       "    }\n",
       "\n",
       "    .dataframe thead th {\n",
       "        text-align: right;\n",
       "    }\n",
       "</style>\n",
       "<table border=\"1\" class=\"dataframe\">\n",
       "  <thead>\n",
       "    <tr style=\"text-align: right;\">\n",
       "      <th></th>\n",
       "      <th>Avg. Session Length</th>\n",
       "      <th>Time on App</th>\n",
       "      <th>Time on Website</th>\n",
       "      <th>Length of Membership</th>\n",
       "      <th>Yearly Amount Spent</th>\n",
       "    </tr>\n",
       "  </thead>\n",
       "  <tbody>\n",
       "    <tr>\n",
       "      <th>0</th>\n",
       "      <td>1.455</td>\n",
       "      <td>0.607</td>\n",
       "      <td>2.491</td>\n",
       "      <td>0.550</td>\n",
       "      <td>1.118</td>\n",
       "    </tr>\n",
       "    <tr>\n",
       "      <th>1</th>\n",
       "      <td>-1.135</td>\n",
       "      <td>-0.949</td>\n",
       "      <td>0.206</td>\n",
       "      <td>-0.870</td>\n",
       "      <td>-1.350</td>\n",
       "    </tr>\n",
       "    <tr>\n",
       "      <th>2</th>\n",
       "      <td>-0.053</td>\n",
       "      <td>-0.726</td>\n",
       "      <td>0.050</td>\n",
       "      <td>0.571</td>\n",
       "      <td>-0.148</td>\n",
       "    </tr>\n",
       "    <tr>\n",
       "      <th>3</th>\n",
       "      <td>1.262</td>\n",
       "      <td>1.675</td>\n",
       "      <td>-0.336</td>\n",
       "      <td>-0.414</td>\n",
       "      <td>1.041</td>\n",
       "    </tr>\n",
       "    <tr>\n",
       "      <th>4</th>\n",
       "      <td>0.280</td>\n",
       "      <td>0.747</td>\n",
       "      <td>0.471</td>\n",
       "      <td>0.914</td>\n",
       "      <td>1.262</td>\n",
       "    </tr>\n",
       "    <tr>\n",
       "      <th>...</th>\n",
       "      <td>...</td>\n",
       "      <td>...</td>\n",
       "      <td>...</td>\n",
       "      <td>...</td>\n",
       "      <td>...</td>\n",
       "    </tr>\n",
       "    <tr>\n",
       "      <th>495</th>\n",
       "      <td>0.186</td>\n",
       "      <td>1.522</td>\n",
       "      <td>-0.636</td>\n",
       "      <td>0.213</td>\n",
       "      <td>0.940</td>\n",
       "    </tr>\n",
       "    <tr>\n",
       "      <th>496</th>\n",
       "      <td>1.662</td>\n",
       "      <td>-0.359</td>\n",
       "      <td>0.128</td>\n",
       "      <td>0.043</td>\n",
       "      <td>0.375</td>\n",
       "    </tr>\n",
       "    <tr>\n",
       "      <th>497</th>\n",
       "      <td>-0.409</td>\n",
       "      <td>-0.556</td>\n",
       "      <td>1.259</td>\n",
       "      <td>1.426</td>\n",
       "      <td>0.659</td>\n",
       "    </tr>\n",
       "    <tr>\n",
       "      <th>498</th>\n",
       "      <td>0.271</td>\n",
       "      <td>0.341</td>\n",
       "      <td>-0.218</td>\n",
       "      <td>-1.198</td>\n",
       "      <td>-0.540</td>\n",
       "    </tr>\n",
       "    <tr>\n",
       "      <th>499</th>\n",
       "      <td>0.668</td>\n",
       "      <td>0.368</td>\n",
       "      <td>-1.276</td>\n",
       "      <td>-0.799</td>\n",
       "      <td>-0.019</td>\n",
       "    </tr>\n",
       "  </tbody>\n",
       "</table>\n",
       "<p>500 rows × 5 columns</p>\n",
       "</div>"
      ],
      "text/plain": [
       "     Avg. Session Length  Time on App  Time on Website  Length of Membership  \\\n",
       "0                  1.455        0.607            2.491                 0.550   \n",
       "1                 -1.135       -0.949            0.206                -0.870   \n",
       "2                 -0.053       -0.726            0.050                 0.571   \n",
       "3                  1.262        1.675           -0.336                -0.414   \n",
       "4                  0.280        0.747            0.471                 0.914   \n",
       "..                   ...          ...              ...                   ...   \n",
       "495                0.186        1.522           -0.636                 0.213   \n",
       "496                1.662       -0.359            0.128                 0.043   \n",
       "497               -0.409       -0.556            1.259                 1.426   \n",
       "498                0.271        0.341           -0.218                -1.198   \n",
       "499                0.668        0.368           -1.276                -0.799   \n",
       "\n",
       "     Yearly Amount Spent  \n",
       "0                  1.118  \n",
       "1                 -1.350  \n",
       "2                 -0.148  \n",
       "3                  1.041  \n",
       "4                  1.262  \n",
       "..                   ...  \n",
       "495                0.940  \n",
       "496                0.375  \n",
       "497                0.659  \n",
       "498               -0.540  \n",
       "499               -0.019  \n",
       "\n",
       "[500 rows x 5 columns]"
      ]
     },
     "execution_count": 26,
     "metadata": {},
     "output_type": "execute_result"
    }
   ],
   "source": [
    "Z_scores = {}\n",
    "for i in data.columns:\n",
    "    Z_scores.update({i:Z_score(data[i])})\n",
    "Z_score_df = pd.DataFrame(Z_scores)\n",
    "Z_score_df\n"
   ]
  },
  {
   "cell_type": "code",
   "execution_count": 27,
   "id": "6d19bcb5-8969-44e6-85ff-a9fd1d44f1fc",
   "metadata": {},
   "outputs": [
    {
     "name": "stdout",
     "output_type": "stream",
     "text": [
      "Outliers:\n",
      "\n",
      "12    -3.547\n",
      "154    3.110\n",
      "Name: Avg. Session Length, dtype: float64\n",
      "-----------\n",
      "65     3.092\n",
      "309   -3.565\n",
      "442   -3.404\n",
      "Name: Time on App, dtype: float64\n",
      "-----------\n",
      "157   -3.114\n",
      "Name: Time on Website, dtype: float64\n",
      "-----------\n",
      "157    3.392\n",
      "447   -3.266\n",
      "Name: Length of Membership, dtype: float64\n",
      "-----------\n",
      "65     3.356\n",
      "157    3.088\n",
      "225   -3.059\n",
      "Name: Yearly Amount Spent, dtype: float64\n",
      "-----------\n"
     ]
    }
   ],
   "source": [
    "cols = Z_score_df.columns\n",
    "print(\"Outliers:\\n\")\n",
    "for i in cols:\n",
    "    print(Z_score_df[i][(Z_score_df[i]>=3) | (Z_score_df[i]<=-3)])\n",
    "    print('-'*11)"
   ]
  },
  {
   "cell_type": "markdown",
   "id": "87119b6e-31ee-4d0e-89c6-2c716c51d052",
   "metadata": {},
   "source": [
    "### Visualize Outliers Using Box plot & IQR"
   ]
  },
  {
   "cell_type": "code",
   "execution_count": 28,
   "id": "20a43506-183c-447b-acd4-e0e0ddf0ecc0",
   "metadata": {},
   "outputs": [
    {
     "data": {
      "text/plain": [
       "[1.3701630194366956,\n",
       " 1.3656963511130957,\n",
       " 1.3671749461357976,\n",
       " 1.1960522346036888,\n",
       " 104.27555053652014]"
      ]
     },
     "execution_count": 28,
     "metadata": {},
     "output_type": "execute_result"
    }
   ],
   "source": [
    "Q1 = [np.percentile(data[i],25) for i in cols]\n",
    "Q3 = [np.percentile(data[i],75) for i in cols]\n",
    "IQR = [(Q3[i]-Q1[j]) for i,j in zip(range(len(Q3)),range(len(Q1)))]\n",
    "IQR"
   ]
  },
  {
   "cell_type": "code",
   "execution_count": 29,
   "id": "542bd2f9-aa4f-4c93-80b9-46e0c5a1dafd",
   "metadata": {},
   "outputs": [
    {
     "name": "stdout",
     "output_type": "stream",
     "text": [
      "Lower Fence = Q1 - 1.5*IQR \n",
      "= [30.28657747536273, 9.3396088251313, 34.29849491039147, 1.136371357955959, 288.62495124023667]\n",
      "\n",
      "Upper Fence = Q3 + 1.5*IQR \n",
      "= [35.767229553109516, 14.802394229583683, 39.76719469493466, 5.920580296370714, 705.7271533863172]\n",
      "\n"
     ]
    }
   ],
   "source": [
    "lower_fence = [(Q1[i]- (1.5*IQR[j])) for i,j in zip(range(len(Q1)),range(len(IQR)))]\n",
    "upper_fence = [(Q3[i]+ (1.5*IQR[j])) for i,j in zip(range(len(Q3)),range(len(IQR)))]\n",
    "print(f\"Lower Fence = Q1 - 1.5*IQR \\n= {lower_fence}\\n\")\n",
    "print(f\"Upper Fence = Q3 + 1.5*IQR \\n= {upper_fence}\\n\")"
   ]
  },
  {
   "cell_type": "code",
   "execution_count": 34,
   "id": "20036d64-a43f-450b-aa30-31de4cd6102f",
   "metadata": {},
   "outputs": [
    {
     "data": {
      "text/plain": [
       "12     29.532429\n",
       "154    36.139662\n",
       "390    35.860237\n",
       "Name: Avg. Session Length, dtype: float64"
      ]
     },
     "execution_count": 34,
     "metadata": {},
     "output_type": "execute_result"
    }
   ],
   "source": [
    "outliers_col_1 = data[cols[0]][(data[cols[0]] < lower_fence[0]) | (data[cols[0]] > upper_fence[0])]\n",
    "outliers_col_1"
   ]
  },
  {
   "cell_type": "code",
   "execution_count": 35,
   "id": "259f0c35-ab03-44a0-9b82-ca3e4bb3dc00",
   "metadata": {},
   "outputs": [
    {
     "data": {
      "text/plain": [
       "65     15.126994\n",
       "309     8.508152\n",
       "362     9.316289\n",
       "442     8.668350\n",
       "Name: Time on App, dtype: float64"
      ]
     },
     "execution_count": 35,
     "metadata": {},
     "output_type": "execute_result"
    }
   ],
   "source": [
    "outliers_col_2 = data[cols[1]][(data[cols[1]] < lower_fence[1]) | (data[cols[1]] > upper_fence[1])]\n",
    "outliers_col_2"
   ]
  },
  {
   "cell_type": "code",
   "execution_count": 36,
   "id": "2d628be3-f4b3-4b1d-91f7-e84bc275fe6f",
   "metadata": {},
   "outputs": [
    {
     "data": {
      "text/plain": [
       "69     40.005182\n",
       "157    33.913847\n",
       "Name: Time on Website, dtype: float64"
      ]
     },
     "execution_count": 36,
     "metadata": {},
     "output_type": "execute_result"
    }
   ],
   "source": [
    "outliers_col_3 = data[cols[2]][(data[cols[2]] < lower_fence[2]) | (data[cols[2]] > upper_fence[2])]\n",
    "outliers_col_3"
   ]
  },
  {
   "cell_type": "code",
   "execution_count": 37,
   "id": "b6124c39-5d0d-45dc-96ea-5742ba67109d",
   "metadata": {},
   "outputs": [
    {
     "data": {
      "text/plain": [
       "50     5.976768\n",
       "151    6.401229\n",
       "153    6.076654\n",
       "157    6.922689\n",
       "161    0.968622\n",
       "173    0.801516\n",
       "225    0.789520\n",
       "303    1.084585\n",
       "379    1.130477\n",
       "396    6.115199\n",
       "434    0.936498\n",
       "447    0.269901\n",
       "Name: Length of Membership, dtype: float64"
      ]
     },
     "execution_count": 37,
     "metadata": {},
     "output_type": "execute_result"
    }
   ],
   "source": [
    "outliers_col_4 = data[cols[3]][(data[cols[3]] < lower_fence[3]) | (data[cols[3]] > upper_fence[3])]\n",
    "outliers_col_4"
   ]
  },
  {
   "cell_type": "code",
   "execution_count": 39,
   "id": "4aee8899-e04e-4e97-9ecf-0454be2cc5d0",
   "metadata": {},
   "outputs": [
    {
     "data": {
      "text/plain": [
       "50     725.584814\n",
       "65     765.518462\n",
       "157    744.221867\n",
       "205    712.396327\n",
       "225    256.670582\n",
       "299    282.471246\n",
       "303    266.086341\n",
       "368    708.935185\n",
       "415    275.918421\n",
       "Name: Yearly Amount Spent, dtype: float64"
      ]
     },
     "execution_count": 39,
     "metadata": {},
     "output_type": "execute_result"
    }
   ],
   "source": [
    "outliers_col_5 = data[cols[4]][(data[cols[4]] < lower_fence[4]) | (data[cols[4]] > upper_fence[4])]\n",
    "outliers_col_5"
   ]
  },
  {
   "cell_type": "code",
   "execution_count": 47,
   "id": "54728a66-1f16-416e-abbd-faa9d9115659",
   "metadata": {},
   "outputs": [
    {
     "data": {
      "image/png": "[encoded data removed]",
      "text/plain": [
       "<Figure size 640x480 with 1 Axes>"
      ]
     },
     "metadata": {},
     "output_type": "display_data"
    }
   ],
   "source": [
    "plt.scatter(range(len(outliers_col_1)),outliers_col_1.values,color=\"r\",s=22)\n",
    "sns.boxplot(x=data[cols[0]],linewidth=3)\n",
    "plt.title(cols[0])\n",
    "plt.show()"
   ]
  },
  {
   "cell_type": "code",
   "execution_count": 48,
   "id": "f8a054b9-7bf3-47c9-8c77-51002e1c3c99",
   "metadata": {},
   "outputs": [
    {
     "data": {
      "image/png": "[encoded data removed]",
      "text/plain": [
       "<Figure size 640x480 with 1 Axes>"
      ]
     },
     "metadata": {},
     "output_type": "display_data"
    }
   ],
   "source": [
    "sns.histplot(data[cols[0]],bins=50)\n",
    "plt.title(cols[0])\n",
    "plt.show()"
   ]
  },
  {
   "cell_type": "code",
   "execution_count": 49,
   "id": "f43c1b5a-86c4-4de4-bf95-cf62c1801729",
   "metadata": {},
   "outputs": [
    {
     "data": {
      "image/png": "[encoded data removed]",
      "text/plain": [
       "<Figure size 640x480 with 1 Axes>"
      ]
     },
     "metadata": {},
     "output_type": "display_data"
    }
   ],
   "source": [
    "sns.scatterplot(x=range(len(outliers_col_2)),y=outliers_col_2.values,color='r')\n",
    "sns.boxplot(x=data[cols[1]])\n",
    "plt.title(cols[1])\n",
    "plt.show()"
   ]
  },
  {
   "cell_type": "code",
   "execution_count": 50,
   "id": "119c9b11-0069-42e8-9e0b-2352add6e602",
   "metadata": {},
   "outputs": [
    {
     "data": {
      "image/png": "[encoded data removed]",
      "text/plain": [
       "<Figure size 640x480 with 1 Axes>"
      ]
     },
     "metadata": {},
     "output_type": "display_data"
    }
   ],
   "source": [
    "sns.boxplot(x=data[cols[2]])\n",
    "sns.scatterplot(x=range(len(outliers_col_3)),y=outliers_col_3.values,color='r')\n",
    "plt.title(cols[2])\n",
    "plt.show()"
   ]
  },
  {
   "cell_type": "code",
   "execution_count": 51,
   "id": "0c532ac1-996d-43c5-a9d3-3a2e1f388df1",
   "metadata": {},
   "outputs": [
    {
     "data": {
      "image/png": "[encoded data removed]",
      "text/plain": [
       "<Figure size 640x480 with 1 Axes>"
      ]
     },
     "metadata": {},
     "output_type": "display_data"
    }
   ],
   "source": [
    "sns.histplot(data[cols[2]],bins=40)\n",
    "plt.title(cols[2])\n",
    "plt.show()"
   ]
  },
  {
   "cell_type": "code",
   "execution_count": 52,
   "id": "dc64c7b0-9642-466a-8148-9e3aae9a61f0",
   "metadata": {},
   "outputs": [
    {
     "data": {
      "image/png": "[encoded data removed]",
      "text/plain": [
       "<Figure size 640x480 with 1 Axes>"
      ]
     },
     "metadata": {},
     "output_type": "display_data"
    }
   ],
   "source": [
    "sns.boxplot(x=data[cols[3]])\n",
    "sns.scatterplot(x=range(len(outliers_col_3)),y=outliers_col_3.values,color=\"red\")\n",
    "plt.title(cols[3])\n",
    "plt.show()"
   ]
  },
  {
   "cell_type": "code",
   "execution_count": 53,
   "id": "8571fc1c-5e39-46e0-b6a8-0539e8c21d6d",
   "metadata": {},
   "outputs": [
    {
     "data": {
      "image/png": "[encoded data removed]",
      "text/plain": [
       "<Figure size 640x480 with 1 Axes>"
      ]
     },
     "metadata": {},
     "output_type": "display_data"
    }
   ],
   "source": [
    "sns.histplot(data[cols[3]],bins=40)\n",
    "plt.title(cols[3])\n",
    "plt.show()"
   ]
  },
  {
   "cell_type": "code",
   "execution_count": 55,
   "id": "fc887458-8813-4f37-becc-60498176ed67",
   "metadata": {},
   "outputs": [
    {
     "data": {
      "image/png": "[encoded data removed]",
      "text/plain": [
       "<Figure size 640x480 with 1 Axes>"
      ]
     },
     "metadata": {},
     "output_type": "display_data"
    }
   ],
   "source": [
    "sns.boxplot(x=data[cols[4]])\n",
    "sns.scatterplot(x=range(len(outliers_col_5)),y=outliers_col_5.values,color='red',size=25)\n",
    "plt.title(cols[4])\n",
    "plt.show()"
   ]
  },
  {
   "cell_type": "code",
   "execution_count": 56,
   "id": "183c1b46-aabb-4d52-8b71-eaaaddc006e7",
   "metadata": {},
   "outputs": [
    {
     "data": {
      "image/png": "[encoded data removed]",
      "text/plain": [
       "<Figure size 640x480 with 1 Axes>"
      ]
     },
     "metadata": {},
     "output_type": "display_data"
    }
   ],
   "source": [
    "sns.histplot(data[cols[4]],bins=40)\n",
    "plt.title(cols[4])\n",
    "plt.show()"
   ]
  },
  {
   "cell_type": "code",
   "execution_count": null,
   "id": "3a9f02ee-c450-4d51-8e3a-b3a2431a7014",
   "metadata": {},
   "outputs": [],
   "source": []
  }
 ],
 "metadata": {
  "kernelspec": {
   "display_name": "Python 3 (ipykernel)",
   "language": "python",
   "name": "python3"
  },
  "language_info": {
   "codemirror_mode": {
    "name": "ipython",
    "version": 3
   },
   "file_extension": ".py",
   "mimetype": "text/x-python",
   "name": "python",
   "nbconvert_exporter": "python",
   "pygments_lexer": "ipython3",
   "version": "3.10.2"
  }
 },
 "nbformat": 4,
 "nbformat_minor": 5
}
